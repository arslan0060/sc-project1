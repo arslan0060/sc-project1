{
 "cells": [
  {
   "cell_type": "code",
   "execution_count": null,
   "metadata": {
    "collapsed": false
   },
   "outputs": [],
   "source": [
    "%pylab inline\n",
    "r  = loadtxt('r.txt')\n",
    "n  = loadtxt('n.txt')\n",
    "h =loadtxt('h.txt')\n",
    "R=loadtxt('Rcap.txt')\n",
    "\n",
    "semilogy(n, r, 'b-',  label='r')\n",
    "semilogy(n, R, 'r--',  label='R')\n",
    "xlabel('n')\n",
    "title('Errors in a Forward Finite Difference Approximation')\n",
    "ylabel('Error')\n",
    "legend()\n"
   ]
  },
  {
   "cell_type": "code",
   "execution_count": null,
   "metadata": {
    "collapsed": false
   },
   "outputs": [],
   "source": [
    "loglog(h, r, 'b-',  label='r')\n",
    "loglog(h, R, 'r--',  label='R')\n",
    "title('Errors in a Forward Finite Difference Approximation')\n",
    "xlabel('h')\n",
    "ylabel('Error')\n",
    "legend()"
   ]
  },
  {
   "cell_type": "markdown",
   "metadata": {
    "collapsed": true
   },
   "source": []
  },
  {
   "cell_type": "code",
   "execution_count": null,
   "metadata": {
    "collapsed": true
   },
   "outputs": [],
   "source": []
  }
 ],
 "metadata": {
  "kernelspec": {
   "display_name": "Python 2",
   "language": "python",
   "name": "python2"
  },
  "language_info": {
   "codemirror_mode": {
    "name": "ipython",
    "version": 2
   },
   "file_extension": ".py",
   "mimetype": "text/x-python",
   "name": "python",
   "nbconvert_exporter": "python",
   "pygments_lexer": "ipython2",
   "version": "2.7.10"
  }
 },
 "nbformat": 4,
 "nbformat_minor": 0
}
